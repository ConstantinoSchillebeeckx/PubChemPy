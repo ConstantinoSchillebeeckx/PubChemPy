{
 "cells": [
  {
   "cell_type": "markdown",
   "metadata": {},
   "source": [
    "# PubChemPy examples\n",
    "\n",
    "## Table of Contents\n",
    "\n",
    "- [1. Introduction](1-introduction.ipynb)\n",
    "- [2. Getting Started](2-getting-started.ipynb)\n",
    "\n",
    "# 2. Getting Started\n",
    "\n",
    "## Retrieving a Compound\n",
    "\n",
    "Retrieving information about a specific Compound in the PubChem database is simple.\n",
    "\n",
    "Begin by importing PubChemPy:"
   ]
  },
  {
   "cell_type": "code",
   "execution_count": 3,
   "metadata": {},
   "outputs": [],
   "source": [
    "import pubchempy as pcp"
   ]
  },
  {
   "cell_type": "markdown",
   "metadata": {},
   "source": [
    "Let’s get the Compound with [CID 5090](https://pubchem.ncbi.nlm.nih.gov/summary/summary.cgi?cid=5090):"
   ]
  },
  {
   "cell_type": "code",
   "execution_count": 4,
   "metadata": {},
   "outputs": [
    {
     "data": {
      "text/plain": [
       "Compound(5090)"
      ]
     },
     "execution_count": 4,
     "metadata": {},
     "output_type": "execute_result"
    }
   ],
   "source": [
    "c = pcp.Compound.from_cid(5090)\n",
    "c"
   ]
  },
  {
   "cell_type": "markdown",
   "metadata": {},
   "source": [
    "Now we have a `Compound` object called `c`. We can get all the information we need from this object:"
   ]
  },
  {
   "cell_type": "code",
   "execution_count": 5,
   "metadata": {},
   "outputs": [
    {
     "name": "stdout",
     "output_type": "stream",
     "text": [
      "C17H14O4S\n"
     ]
    }
   ],
   "source": [
    "print(c.molecular_formula)"
   ]
  },
  {
   "cell_type": "code",
   "execution_count": 6,
   "metadata": {},
   "outputs": [
    {
     "name": "stdout",
     "output_type": "stream",
     "text": [
      "314.355\n"
     ]
    }
   ],
   "source": [
    "print(c.molecular_weight)"
   ]
  },
  {
   "cell_type": "code",
   "execution_count": 7,
   "metadata": {},
   "outputs": [
    {
     "name": "stdout",
     "output_type": "stream",
     "text": [
      "CS(=O)(=O)C1=CC=C(C=C1)C2=C(C(=O)OC2)C3=CC=CC=C3\n"
     ]
    }
   ],
   "source": [
    "print(c.isomeric_smiles)"
   ]
  },
  {
   "cell_type": "code",
   "execution_count": 8,
   "metadata": {},
   "outputs": [
    {
     "name": "stdout",
     "output_type": "stream",
     "text": [
      "2.3\n"
     ]
    }
   ],
   "source": [
    "print(c.xlogp)"
   ]
  },
  {
   "cell_type": "code",
   "execution_count": 9,
   "metadata": {},
   "outputs": [
    {
     "name": "stdout",
     "output_type": "stream",
     "text": [
      "3-(4-methylsulfonylphenyl)-4-phenyl-2H-furan-5-one\n"
     ]
    }
   ],
   "source": [
    "print(c.iupac_name)"
   ]
  },
  {
   "cell_type": "code",
   "execution_count": 10,
   "metadata": {},
   "outputs": [
    {
     "name": "stdout",
     "output_type": "stream",
     "text": [
      "[u'rofecoxib', u'Vioxx', u'162011-90-7', u'Ceoxx', u'MK 966', u'4-[4-(methylsulfonyl)phenyl]-3-phenylfuran-2(5H)-one', u'4-(4-(Methylsulfonyl)phenyl)-3-phenylfuran-2(5H)-one', u'MK 0966', u'MK-966', u'4-[4-(methylsulfonyl)phenyl]-3-phenyl-2(5H)-furanone', u'MK-0966', u'UNII-0QTW8Z7MCR', u'3-(4-methylsulfonylphenyl)-4-phenyl-2H-furan-5-one', u'Vioxx (trademark)', u'MK0966', u'CCRIS 8967', u'Vioxx (TN)', u'HSDB 7262', u'MK 996', u'0QTW8Z7MCR', u'CHEMBL122', u'KS-1107', u'4-(4-methylsulfonylphenyl)-3-phenyl-5H-furan-2-one', u'Rofecoxib (JAN/USAN/INN)', u'3-phenyl-4-[4-(methylsulfonyl)phenyl]-2(5H)-furanone', u'4-(4-(Methylsulfonyl)phenyl)-3-phenyl-2(5H)-furanone', u'3-Phenyl-4-(4-(methylsulfonyl)phenyl))-2(5H)-furanone', u'CHEBI:8887', u'C17H14O4S', u'RZJQGNCSTQAWON-UHFFFAOYSA-N', u'4-(p-(Methylsulfonyl)phenyl)-3-phenyl-2(5H)-furanone', u'MK 0996', u'NCGC00095118-01', u'Vioxx-d5 (Major)', u'2(5H)-Furanone, 4-(4-(methylsulfonyl)phenyl)-3-phenyl-', u'2(5H)-Furanone, 4-[4-(methylsulfonyl)phenyl]-3-phenyl-', u'refecoxib', u'4-(4-METHANESULFONYL-PHENYL)-3-PHENYL-5H-FURAN-2-ONE', u'Vioxx Dolor', u'186912-82-3', u'SMR000466331', u'MSD brand of rofecoxib', u'Merck brand of rofecoxib', u'ceeoxx', u'rofecoxibum', u'Rofecoxib [USAN:INN:BAN]', u'Rofecoxib (Vioxx)', u'Ceeoxx (TN)', u'Cahill May Roberts brand of rofecoxib', u'Ceoxx (TN)', u'544684-93-7', u'Merck Sharp & Dhome brand of rofecoxib', u'PubChem15028', u'Spectrum_000119', u'SpecPlus_000669', u'Spectrum2_000446', u'Spectrum3_001153', u'Spectrum4_000631', u'Spectrum5_001598', u'DSSTox_CID_3567', u'D05VLS', u'AC1L1JL6', u'SCHEMBL3050', u'DSSTox_RID_77084', u'DSSTox_GSID_23567', u'BSPBio_002705', u'KBioGR_001242', u'KBioGR_002345', u'KBioSS_000559', u'KBioSS_002348', u'MLS000759440', u'MLS001165770', u'MLS001195623', u'MLS001424113', u'MLS006010091', u'BIDD:GT0399', u'Bio-0094', u'DivK1c_006765', u'Merck Frosst brandof rofecoxib', u'SPECTRUM1504235', u'SPBio_000492', u'3-(4-methanesulfonylphenyl)-2-phenyl-2-buten-4-olide', u'GTPL2893', u'ZINC7455', u'Jsp003237', u'DTXSID2023567', u'BDBM22369', u'KBio1_001709', u'KBio2_000559', u'KBio2_002345', u'KBio2_003127', u'KBio2_004913', u'KBio2_005695', u'KBio2_007481', u'KBio3_002205', u'KBio3_002825', u'KS-00000XKS', u'AOB6956', u'EX-A708', u'TRM-201', u'cMAP_000024', u'MolPort-000-883-878', u'MolPort-006-817-786', u'HMS1922H11', u'HMS2051G16', u'HMS2089H20', u'HMS2093E04', u'HMS2232G21', u'HMS3371P11', u'HMS3393G16', u'HMS3651F16', u'MK966', u'Pharmakon1600-01504235', u'EBD34785', u'Tox21_111430', u'ANW-71936', u'CCG-40253', u'MFCD00935806', u'NSC720256', u'NSC758705', u's3043', u'STK635144', u'AKOS000280931', u'AB07701', u'CS-0997', u'DB00533', u'MCULE-4806636118', u'NC00132', u'NSC-720256', u'NSC-758705', u'VA11689', u'NCGC00095118-02', u'NCGC00095118-03', u'NCGC00095118-04', u'NCGC00095118-05', u'AC-28318', u'AJ-08299', u'AK-60971', u'AN-25306', u'CPD000466331', u'DR001346', u'HE230410', u'HE320865', u'HY-17372', u'LS-70511', u'NCI60_041175', u'SAM001246617', u'SC-17320', u'ZB000656', u'SBI-0206774.P001', u'AB0012045', u'RT-016235', u'ST2410970', u'CAS-162011-90-7', u'FT-0081390', u'FT-0631192', u'C07590', u'D00568', u'J10420', u'K-5064', u'AB00052090-06', u'AB00052090-08', u'AB00052090_09', u'AB00052090_10', u'011R907', u'A810324', u'L000912', u'I01-1042', u'Q-201676', u'BRD-K21733600-001-02-6', u'3-(4-methanesulfonyl-phenyl)-2-phenyl-2-buten-4-olide', u'2(5H)-Furanone, 4-[4-(methyl-sulfonyl)phenyl]-3-phenyl-', u'3-(Phenyl)-4-(4-(methylsulfonyl)phenyl)-2-(5H)-furanone', u'3-Phenyl-4-(4-(Methylsulfonyl)Phenyl)-2-(5H)-Furanone', u'4-(4-methanesulfonylphenyl)-3-phenyl-2,5-dihydrofuran-2-one', u'Vioxx; 4-[4-(Methylsulfonyl)phenyl]-3-phenylfuran-2(5H)-one']\n"
     ]
    }
   ],
   "source": [
    "print(c.synonyms)"
   ]
  },
  {
   "cell_type": "markdown",
   "metadata": {},
   "source": [
    "## Searching\n",
    "\n",
    "What if you don’t know the PubChem CID of the Compound you want? Just use the `get_compounds()` function:"
   ]
  },
  {
   "cell_type": "code",
   "execution_count": 11,
   "metadata": {},
   "outputs": [
    {
     "data": {
      "text/plain": [
       "[Compound(5793)]"
      ]
     },
     "execution_count": 11,
     "metadata": {},
     "output_type": "execute_result"
    }
   ],
   "source": [
    "results = pcp.get_compounds('Glucose', 'name')\n",
    "results"
   ]
  },
  {
   "cell_type": "markdown",
   "metadata": {},
   "source": [
    "The first argument is the identifier, and the second argument is the identifier type, which must be one of name, smiles, sdf, inchi, inchikey or formula. It looks like there are 4 compounds in the PubChem Database that have the name Glucose associated with them. Let’s take a look at them in more detail:"
   ]
  },
  {
   "cell_type": "code",
   "execution_count": 12,
   "metadata": {},
   "outputs": [
    {
     "name": "stdout",
     "output_type": "stream",
     "text": [
      "C([C@@H]1[C@H]([C@@H]([C@H](C(O1)O)O)O)O)O\n"
     ]
    }
   ],
   "source": [
    "for compound in results:\n",
    "    print compound.isomeric_smiles"
   ]
  },
  {
   "cell_type": "markdown",
   "metadata": {},
   "source": [
    "It looks like they all have different stereochemistry information.\n",
    "\n",
    "Retrieving the record for a SMILES string is just as easy:"
   ]
  },
  {
   "cell_type": "code",
   "execution_count": 13,
   "metadata": {},
   "outputs": [
    {
     "data": {
      "text/plain": [
       "[Compound(1318)]"
      ]
     },
     "execution_count": 13,
     "metadata": {},
     "output_type": "execute_result"
    }
   ],
   "source": [
    "pcp.get_compounds('C1=CC2=C(C3=C(C=CC=N3)C=C2)N=C1', 'smiles')"
   ]
  },
  {
   "cell_type": "markdown",
   "metadata": {},
   "source": [
    "It's worth being aware that line notation inputs like SMILES and InChI can return automatically generated records that aren’t actually present in PubChem, and therefore have no CID and are missing many properties that are too complicated to calculate on the fly."
   ]
  },
  {
   "cell_type": "markdown",
   "metadata": {},
   "source": [
    "## Searching with entrez\n",
    "\n",
    "Running `get_compounds()` may not always return a result, for example:"
   ]
  },
  {
   "cell_type": "code",
   "execution_count": 15,
   "metadata": {},
   "outputs": [
    {
     "data": {
      "text/plain": [
       "[]"
      ]
     },
     "execution_count": 15,
     "metadata": {},
     "output_type": "execute_result"
    }
   ],
   "source": [
    "results = pcp.get_compounds('mouse tyrosinase', 'name')\n",
    "results"
   ]
  },
  {
   "cell_type": "markdown",
   "metadata": {},
   "source": [
    "Instead, you can run an  by using `find_compounds()`, for example:"
   ]
  },
  {
   "cell_type": "code",
   "execution_count": 18,
   "metadata": {},
   "outputs": [
    {
     "data": {
      "text/plain": [
       "[Compound(9919967)]"
      ]
     },
     "execution_count": 18,
     "metadata": {},
     "output_type": "execute_result"
    }
   ],
   "source": [
    "results = pcp.find_compounds('mouse tyrosinase', as_compounds=True)\n",
    "results"
   ]
  },
  {
   "cell_type": "markdown",
   "metadata": {},
   "source": [
    "This function is simply a call to NCBI's E-utilities functionality which executes an [entrez query](https://www.ncbi.nlm.nih.gov/books/NBK3837/) on the PubChem database using the endpoint `https://eutils.ncbi.nlm.nih.gov/entrez/eutils/esearch.fcgi`.\n",
    "\n",
    "The function `find_compounds()` can either return:\n",
    "- a list of CIDs (by default)\n",
    "- a list of `class Compound` (by passing `as_compound=True`)\n",
    "- a Pandas DataFrame (by passing `as_dataframe=True`)\n",
    "\n",
    "Note that passing either `as_compound` or `as_dataframe` will make multiple calls to the NCBI server and could be slow based on the results from. It may also violate their usage policy:\n",
    "> We ask that any script or application not make more than 5 requests per second, in order to avoid overloading the PubChem servers."
   ]
  },
  {
   "cell_type": "markdown",
   "metadata": {},
   "source": [
    "---\n",
    "Previous: [Introduction](1-introduction.ipynb)"
   ]
  }
 ],
 "metadata": {
  "kernelspec": {
   "display_name": "Python 2",
   "language": "python",
   "name": "python2"
  },
  "language_info": {
   "codemirror_mode": {
    "name": "ipython",
    "version": 2
   },
   "file_extension": ".py",
   "mimetype": "text/x-python",
   "name": "python",
   "nbconvert_exporter": "python",
   "pygments_lexer": "ipython2",
   "version": "2.7.13"
  }
 },
 "nbformat": 4,
 "nbformat_minor": 1
}
